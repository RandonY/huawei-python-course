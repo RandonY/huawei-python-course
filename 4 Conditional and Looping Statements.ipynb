{
 "cells": [
  {
   "cell_type": "markdown",
   "metadata": {},
   "source": [
    "# This experiment mainly introduces related knowledge and operations about conditional and looping statements in Python.\n",
    "\n",
    "4.1.2 Objectives of the Experiment\n",
    "\tUnderstand meanings of conditional and looping statements in Python.\n",
    "\tUnderstand related operations on conditional and looping statements in Python.\n",
    "\n",
    "# In Python, the \"if\" statement controls execution of a program, and its basic form is as follows:\n",
    "\n",
    "if judging condition:\n",
    "Execute statement…\n",
    "else:\n",
    "Execute statement …\n",
    "\n",
    "The following statements are executed if the judging condition is true (non-zero). There can be multiple lines of execution statements, which can be indented to indicate the same range. The \"else\" statement is optional, and can be executed when the condition is false.\n",
    "\n",
    "# Looping statement\n",
    "\n",
    "There are a lot of changes in looping statements. Common statements include the \"for\" statement and the \"while\" statement.\n",
    "In \"for\" looping, the \"for\" statement should be followed by a colon. \"for\" looping is performed in a way similar to iterating. In \"while\" looping, there is a judgment on condition and then looping, like in other languages.\n",
    "\n",
    "# Python For Loops\n",
    "A for loop is used for iterating over a sequence (that is either a list, a tuple, a dictionary, a set, or a string).\n",
    "\n",
    "This is less like the for keyword in other programming languages, and works more like an iterator method as found in other object-orientated programming languages.\n",
    "\n",
    "With the for loop we can execute a set of statements, once for each item in a list, tuple, set etc.\n",
    "The for loop does not require an indexing variable to set beforehand.\n"
   ]
  },
  {
   "cell_type": "code",
   "execution_count": null,
   "metadata": {},
   "outputs": [],
   "source": [
    "# Example . Creating a LIST and Print each fruit in a fruit list:\n",
    "fruits = [\"apple\", \"banana\", \"cherry\"]\n",
    "for x in fruits:\n",
    "  print(x)"
   ]
  },
  {
   "cell_type": "code",
   "execution_count": null,
   "metadata": {},
   "outputs": [],
   "source": [
    "# Example . Creating a Tuple and Print each element:\n",
    "tp = (2,3,4)\n",
    "for i in tp:\n",
    "    print(i)"
   ]
  },
  {
   "cell_type": "code",
   "execution_count": null,
   "metadata": {},
   "outputs": [],
   "source": [
    "# printing Pair numbers from the list\n",
    "list = [1,2,3,4,5,6,7,8,9,10]\n",
    "for num in list:\n",
    "    if num % 2 == 0:\n",
    "        print (num)\n",
    "        \n",
    "# % is a module = rest of a division, therefore if the number / 2 = 0 the program prints the number"
   ]
  },
  {
   "cell_type": "code",
   "execution_count": null,
   "metadata": {},
   "outputs": [],
   "source": [
    "#Printing numbers of the interval 0 e 101, adding 2 in each number\n",
    "for i in range(0,101,2):  \n",
    "    print(i)"
   ]
  },
  {
   "cell_type": "markdown",
   "metadata": {},
   "source": [
    "# Looping Through a String\n",
    "Even strings are iterable objects, they contain a sequence of characters:\n",
    "\n",
    "Example\n",
    "Loop through the letters in the word \"banana\":"
   ]
  },
  {
   "cell_type": "code",
   "execution_count": null,
   "metadata": {},
   "outputs": [],
   "source": [
    "for x in \"banana\":\n",
    "  print(x)"
   ]
  },
  {
   "cell_type": "code",
   "execution_count": null,
   "metadata": {},
   "outputs": [],
   "source": [
    "#for looping\n",
    "\n",
    "for i in range(0,10):\n",
    "    print(i)\n"
   ]
  },
  {
   "cell_type": "code",
   "execution_count": null,
   "metadata": {},
   "outputs": [],
   "source": [
    "#for looping\n",
    "\n",
    "a=[1,3,5,7,9]\n",
    "for i in a:\n",
    "    print(i)\n"
   ]
  },
  {
   "cell_type": "code",
   "execution_count": null,
   "metadata": {},
   "outputs": [],
   "source": [
    "#.\t\"while\" looping\n",
    "#Example: Print i as long as i is less than 6: Python will print the sequence of numbers of the from the number defined in \n",
    "#variable until the number defined in the while command.\n",
    "\n",
    "i = 1\n",
    "while i < 12:\n",
    "  print(i)\n",
    "  i += 1\n",
    "    "
   ]
  },
  {
   "cell_type": "markdown",
   "metadata": {},
   "source": [
    "The while loop requires relevant variables to be ready, in this example we need to define an indexing variable, i, which we set to 1.\n",
    "\n",
    "# The break Statement\n",
    "With the break statement we can stop the loop even if the while condition is true:\n",
    "Example\n",
    "Exit the loop when i is 3:"
   ]
  },
  {
   "cell_type": "code",
   "execution_count": null,
   "metadata": {},
   "outputs": [],
   "source": [
    "i = 1\n",
    "while i < 6:\n",
    "  print(i)\n",
    "  if i == 3:\n",
    "    break\n",
    "  i += 1"
   ]
  },
  {
   "cell_type": "markdown",
   "metadata": {},
   "source": [
    "# The continue Statement\n",
    "With the continue statement we can stop the current iteration, and continue with the next:\n",
    "Example\n",
    "Continue to the next iteration if i is 3:"
   ]
  },
  {
   "cell_type": "code",
   "execution_count": null,
   "metadata": {},
   "outputs": [],
   "source": [
    "i = 0\n",
    "while i < 6:\n",
    "  i += 1\n",
    "  if i == 3:\n",
    "    continue\n",
    "  print(i)"
   ]
  },
  {
   "cell_type": "markdown",
   "metadata": {},
   "source": [
    "# The else Statement\n",
    "With the else statement we can run a block of code once when the condition no longer is true:\n",
    "Example\n",
    "Print a message once the condition is false:"
   ]
  },
  {
   "cell_type": "code",
   "execution_count": null,
   "metadata": {},
   "outputs": [],
   "source": [
    "i = 1\n",
    "while i < 6:\n",
    "  print(i)\n",
    "  i += 1\n",
    "else:\n",
    "  print(\"i is no longer less than 6\")"
   ]
  },
  {
   "cell_type": "code",
   "execution_count": null,
   "metadata": {},
   "outputs": [],
   "source": [
    "# Another Example: Print all numbers from 0 to 5, and print a message when the loop has ended:\n",
    "for x in range(6):\n",
    "  print(x)\n",
    "else:\n",
    "  print(\"Finally finished!\")"
   ]
  },
  {
   "cell_type": "markdown",
   "metadata": {},
   "source": [
    "# Nested Loops\n",
    "A nested loop is a loop inside a loop.\n",
    "\n",
    "The \"inner loop\" will be executed one time for each iteration of the \"outer loop\":\n",
    "\n",
    "Example\n",
    "Print each adjective for every fruit:"
   ]
  },
  {
   "cell_type": "code",
   "execution_count": null,
   "metadata": {
    "scrolled": true
   },
   "outputs": [],
   "source": [
    "adj = [\"red\", \"big\", \"tasty\"]\n",
    "fruits = [\"apple\", \"banana\", \"cherry\"]\n",
    "\n",
    "for x in adj:\n",
    "  for y in fruits:\n",
    "    print(x, y)"
   ]
  },
  {
   "cell_type": "code",
   "execution_count": null,
   "metadata": {},
   "outputs": [],
   "source": [
    "# Using more than one conditional if adding Placeholders\n",
    "\n",
    "Certification = input('Type your Certification: ')\n",
    "final_Score = input('Type your final Score (between 0 e 100): ')\n",
    "Period = input('Type the period (1 to 4): ')\n",
    "\n",
    "if Certification == 'A.I' and final_Score >= '50' and int(Period) != 1:\n",
    "    print('You are approved %s and your final score %r!' %(Certification, final_Score))\n",
    "else:\n",
    "    print('Sorry you need to study more!')"
   ]
  },
  {
   "cell_type": "markdown",
   "metadata": {},
   "source": [
    "# The pass Statement\n",
    "for loops cannot be empty, but if you for some reason have a for loop with no content, put in the pass statement to avoid getting an error."
   ]
  },
  {
   "cell_type": "code",
   "execution_count": null,
   "metadata": {},
   "outputs": [],
   "source": [
    "for x in [0, 1, 2]:\n",
    "  pass"
   ]
  }
 ],
 "metadata": {
  "kernelspec": {
   "display_name": "Python 3",
   "language": "python",
   "name": "python3"
  },
  "language_info": {
   "codemirror_mode": {
    "name": "ipython",
    "version": 3
   },
   "file_extension": ".py",
   "mimetype": "text/x-python",
   "name": "python",
   "nbconvert_exporter": "python",
   "pygments_lexer": "ipython3",
   "version": "3.8.3"
  }
 },
 "nbformat": 4,
 "nbformat_minor": 4
}
