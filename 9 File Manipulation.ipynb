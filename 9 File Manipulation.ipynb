{
 "cells": [
  {
   "cell_type": "markdown",
   "metadata": {},
   "source": [
    "Concepts\n",
    "File manipulation is essential to programming languages, as information technologies would be meaningless if data cannot be stored permanently. This chapter introduces common file manipulation in Python.\n",
    "Python File Open\n",
    "File handling is an important part of any web application.\n",
    "Python has several functions for creating, reading, updating, and deleting files.\n",
    "\n",
    "Read keyboard input\n",
    "Python provides two build-in functions to read a text line from the standard input, which a keyboard by default. The two functions are raw_input and input.\n",
    "raw_input( ) function:\n",
    "\n",
    "print(\"Your input is:\", str)\n",
    "\n",
    "This reminds your input of any strings and displays the same strings on the screen. When I enter \"Hello Python!\", it outputs:\n",
    "Please input: Hello Python!\n",
    "Your input is: Hello Python!\n",
    "\n",
    "input( ) function:\n",
    "The input([prompt]) and raw_input([prompt]) functions are similar, but the former can receive a Python expression as the input and return the result.\n"
   ]
  },
  {
   "cell_type": "code",
   "execution_count": null,
   "metadata": {},
   "outputs": [],
   "source": [
    "name = input(\"What's your name? \")\n",
    "num = int(input(name + \" give me a number to check: \"))\n",
    "check = int(input(\"give me a number to divide by: \"))\n",
    "\n",
    "if num % 4 == 0:\n",
    "    print(num, \"is a multiple of 4\")\n",
    "elif num % 2 == 0:\n",
    "    print(num, \"is an even number\")\n",
    "else:\n",
    "    print(num, \"is an odd number\")\n",
    "\n",
    "if num % check == 0:\n",
    "    print(num, \"divides evenly by\", check)\n",
    "else:\n",
    "    print(num, \"does not divide evenly by\", check)"
   ]
  },
  {
   "cell_type": "markdown",
   "metadata": {},
   "source": [
    "Open and close files\n",
    "Python provides essential functions and methods to manipulate files by default. You can use the file object to do most file manipulations.\n",
    "Open() function: You should open a file using the Python build-in open() function, and create a file object, so that the related methods can call it to write and read.\n"
   ]
  },
  {
   "cell_type": "markdown",
   "metadata": {},
   "source": [
    "Close() function: For the file object, it refreshes any buffered data that has not been written and closes the file. Then, the file cannot be written.\n",
    "When a reference to a file object is re-assigned to another file, Python will close the previous file. It is ideal to close a file using the close() function.\n"
   ]
  },
  {
   "cell_type": "markdown",
   "metadata": {},
   "source": [
    "Write a file\n",
    "write() function: It writes any string into an opened file. Note that Python strings can be binary data, not just texts. This function will not add a line feed ('\\n') at string ends.\n"
   ]
  },
  {
   "cell_type": "markdown",
   "metadata": {},
   "source": [
    "Read a file\n",
    "Read() function: It reads strings from an opened file. Note that Python strings can be binary data, not just texts.\n"
   ]
  },
  {
   "cell_type": "code",
   "execution_count": null,
   "metadata": {},
   "outputs": [],
   "source": [
    "f = open(r\"C:\\Users\\fabio\\Huawei Python Labs\\exfile.txt\")\n",
    "print(f.read())"
   ]
  },
  {
   "cell_type": "code",
   "execution_count": null,
   "metadata": {},
   "outputs": [],
   "source": [
    "f = open(r\"C:\\Users\\fabio\\Huawei Python Labs\\exfile.txt\")\n",
    "print(f.read(15))"
   ]
  },
  {
   "cell_type": "markdown",
   "metadata": {},
   "source": [
    "Read Lines\n",
    "You can return one line by using the readline() method:\n",
    "Example\n",
    "Read one line of the file:"
   ]
  },
  {
   "cell_type": "code",
   "execution_count": null,
   "metadata": {},
   "outputs": [],
   "source": [
    "f = open(r\"C:\\Users\\fabio\\Huawei Python Labs\\exfile.txt\")\n",
    "print(f.readline())"
   ]
  },
  {
   "cell_type": "markdown",
   "metadata": {},
   "source": [
    "By calling readline() two times, you can read the two first lines:\n",
    "\n",
    "Example\n",
    "Read two lines of the file:"
   ]
  },
  {
   "cell_type": "code",
   "execution_count": null,
   "metadata": {},
   "outputs": [],
   "source": [
    "f = open(r\"C:\\Users\\fabio\\Huawei Python Labs\\exfile.txt\")\n",
    "print(f.readline())\n",
    "print(f.readline())\n"
   ]
  },
  {
   "cell_type": "markdown",
   "metadata": {},
   "source": [
    "By looping through the lines of the file, you can read the whole file, line by line:"
   ]
  },
  {
   "cell_type": "code",
   "execution_count": null,
   "metadata": {},
   "outputs": [],
   "source": [
    "f = open(r\"C:\\Users\\fabio\\Huawei Python Labs\\exfile.txt\")\n",
    "for x in f:\n",
    "  print(x)"
   ]
  },
  {
   "cell_type": "markdown",
   "metadata": {},
   "source": [
    "Close Files\n",
    "It is a good practice to always close the file when you are done with it.\n",
    "\n",
    "Example\n",
    "Close the file when you are finish with it:"
   ]
  },
  {
   "cell_type": "code",
   "execution_count": null,
   "metadata": {},
   "outputs": [],
   "source": [
    "f = open(r\"C:\\Users\\fabio\\Huawei Python Labs\\exfile.txt\")\n",
    "print(f.readline())\n",
    "f.close()\n",
    "\n",
    "#Note: You should always close your files, in some cases, \n",
    "#due to buffering, changes made to a file may not show until you close the file."
   ]
  },
  {
   "cell_type": "markdown",
   "metadata": {},
   "source": [
    "Write to an Existing File\n",
    "To write to an existing file, you must add a parameter to the open() function:\n",
    "\n",
    "\"a\" - Append - will append to the end of the file\n",
    "\n",
    "\"w\" - Write - will overwrite any existing content"
   ]
  },
  {
   "cell_type": "code",
   "execution_count": null,
   "metadata": {},
   "outputs": [],
   "source": [
    "f = open(r\"C:\\Users\\fabio\\Huawei Python Labs\\exfile.txt\", \"a\")\n",
    "f.write(\" Now the file has more content!\")\n",
    "f.close()\n",
    "\n",
    "#open and read the file after the appending:\n",
    "f = open(r\"C:\\Users\\fabio\\Huawei Python Labs\\exfile.txt\")\n",
    "print(f.read())"
   ]
  },
  {
   "cell_type": "code",
   "execution_count": null,
   "metadata": {},
   "outputs": [],
   "source": [
    "#Example\n",
    "#Open the file \"demofile3.txt\" and overwrite the content:\n",
    "#Note: the \"w\" method will overwrite the entire file.\n",
    "\n",
    "f = open(r\"C:\\Users\\fabio\\Huawei Python Labs\\exfile.txt\", \"w\")\n",
    "f.write(\"Woops! I have deleted the content!\")\n",
    "f.close()\n",
    "\n",
    "#open and read the file after the appending:\n",
    "f = open(r\"C:\\Users\\fabio\\Huawei Python Labs\\exfile.txt\")\n",
    "print(f.read())"
   ]
  },
  {
   "cell_type": "markdown",
   "metadata": {},
   "source": [
    "Create a New File\n",
    "To create a new file in Python, use the open() method, with one of the following parameters:\n",
    "\n",
    "\"x\" - Create - will create a file, returns an error if the file exist\n",
    "\n",
    "\"a\" - Append - will create a file if the specified file does not exist\n",
    "\n",
    "\"w\" - Write - will create a file if the specified file does not exist\n",
    "\n",
    "Example\n",
    "Create a file called \"myfile.txt\":"
   ]
  },
  {
   "cell_type": "code",
   "execution_count": null,
   "metadata": {},
   "outputs": [],
   "source": [
    "f = open(\"myfile.txt\", \"x\")\n",
    "#Result: a new empty file is created!"
   ]
  },
  {
   "cell_type": "code",
   "execution_count": null,
   "metadata": {
    "scrolled": true
   },
   "outputs": [],
   "source": [
    "f = open(r\"myfile.txt\", \"a\")\n",
    "f.write(\" This is the new content on the file!\")\n",
    "#open and read the file after the appending:\n",
    "f = open(r\"myfile.txt\")\n",
    "print(f.read())\n"
   ]
  },
  {
   "cell_type": "markdown",
   "metadata": {},
   "source": [
    "Rename a file\n",
    "The os module of Python provides a method to execute file processing operations, like renaming and deleting files. To use this module, you have to import it first and then call various functions.\n",
    "rename(): It requires two arguments: current file name and new file name.\n",
    "Function syntax:\n",
    "import os\n",
    "# Rename file test1.txt to test2.txt\n",
    "os.rename( \"test1.txt\", \"test2.txt\" )\n"
   ]
  },
  {
   "cell_type": "markdown",
   "metadata": {},
   "source": [
    "Delete a File\n",
    "To delete a file, you must import the OS module, and run its os.remove() function:\n",
    "\n",
    "Example\n",
    "Remove the file \"demofile.txt\":"
   ]
  },
  {
   "cell_type": "code",
   "execution_count": null,
   "metadata": {},
   "outputs": [],
   "source": [
    "#Syntax\n",
    "import os\n",
    "os.remove(\"xxxx.txt\")"
   ]
  },
  {
   "cell_type": "markdown",
   "metadata": {},
   "source": [
    "Check if File exist:\n",
    "To avoid getting an error, you might want to check if the file exists before you try to delete it:\n",
    "\n",
    "Example\n",
    "Check if file exists, then delete it:\n",
    "    \n",
    "    import os\n",
    "if os.path.exists(\"demofile.txt\"):\n",
    "  os.remove(\"demofile.txt\")\n",
    "else:\n",
    "  print(\"The file does not exist\")"
   ]
  }
 ],
 "metadata": {
  "kernelspec": {
   "display_name": "Python 3",
   "language": "python",
   "name": "python3"
  },
  "language_info": {
   "codemirror_mode": {
    "name": "ipython",
    "version": 3
   },
   "file_extension": ".py",
   "mimetype": "text/x-python",
   "name": "python",
   "nbconvert_exporter": "python",
   "pygments_lexer": "ipython3",
   "version": "3.8.3"
  }
 },
 "nbformat": 4,
 "nbformat_minor": 4
}
